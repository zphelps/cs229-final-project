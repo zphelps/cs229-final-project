{
 "cells": [
  {
   "cell_type": "code",
   "execution_count": 2,
   "metadata": {},
   "outputs": [],
   "source": [
    "import pandas as pd"
   ]
  },
  {
   "cell_type": "code",
   "execution_count": 58,
   "metadata": {},
   "outputs": [],
   "source": [
    "races = pd.read_csv(\"data/races.csv\")\n",
    "results = pd.read_csv(\"data/results.csv\")\n",
    "driver_standings = pd.read_csv(\"data/driver_standings.csv\")\n",
    "constructor_standings = pd.read_csv(\"data/constructor_standings.csv\")\n",
    "\n",
    "# races = races[['raceId', 'year', 'round', 'circuitId']]\n",
    "# results = results[['raceId', 'driverId', 'constructorId', 'grid', 'position']]\n",
    "# driver_standings = driver_standings[['raceId', 'driverId', 'points', 'wins']]\n",
    "# constructor_standings = constructor_standings[['raceId', 'constructorId', 'points', 'wins']]\n"
   ]
  },
  {
   "cell_type": "code",
   "execution_count": 59,
   "metadata": {},
   "outputs": [],
   "source": [
    "results = results.merge(races, on=\"raceId\", how=\"inner\")\n",
    "# Merge driver_standings on both raceId and driverId:\n",
    "results = results.merge(\n",
    "    driver_standings,\n",
    "    on=[\"raceId\", \"driverId\"],\n",
    "    how=\"inner\",\n",
    "    suffixes=('', '_driver')\n",
    ")\n",
    "# Merge constructor_standings on both raceId and constructorId:\n",
    "results = results.merge(\n",
    "    constructor_standings,\n",
    "    on=[\"raceId\", \"constructorId\"],\n",
    "    how=\"inner\",\n",
    "    suffixes=('', '_constructor')\n",
    ")"
   ]
  },
  {
   "cell_type": "code",
   "execution_count": 60,
   "metadata": {},
   "outputs": [],
   "source": [
    "# results = results.query(\"year == 2024\")\n",
    "\n",
    "results = results[['raceId', 'year', 'driverId', 'constructorId', 'round', 'grid', 'position', 'circuitId', 'points_driver', 'points_constructor', 'wins', 'wins_constructor']]\n",
    "\n",
    "results.to_csv(\"cleaned/results.csv\", index=False)\n"
   ]
  },
  {
   "cell_type": "code",
   "execution_count": null,
   "metadata": {},
   "outputs": [],
   "source": []
  }
 ],
 "metadata": {
  "kernelspec": {
   "display_name": ".venv",
   "language": "python",
   "name": "python3"
  },
  "language_info": {
   "codemirror_mode": {
    "name": "ipython",
    "version": 3
   },
   "file_extension": ".py",
   "mimetype": "text/x-python",
   "name": "python",
   "nbconvert_exporter": "python",
   "pygments_lexer": "ipython3",
   "version": "3.12.7"
  }
 },
 "nbformat": 4,
 "nbformat_minor": 2
}
