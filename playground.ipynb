{
 "cells": [
  {
   "cell_type": "code",
   "execution_count": 33,
   "metadata": {},
   "outputs": [],
   "source": [
    "import pandas as pd"
   ]
  },
  {
   "cell_type": "code",
   "execution_count": 34,
   "metadata": {},
   "outputs": [],
   "source": [
    "races = pd.read_csv(\"data/races.csv\")\n",
    "results = pd.read_csv(\"data/results.csv\")\n",
    "driver_standings = pd.read_csv(\"data/driver_standings.csv\")\n",
    "constructor_standings = pd.read_csv(\"data/constructor_standings.csv\")\n",
    "\n",
    "# races = races[['raceId', 'year', 'round', 'circuitId']]\n",
    "# results = results[['raceId', 'driverId', 'constructorId', 'grid', 'position']]\n",
    "# driver_standings = driver_standings[['raceId', 'driverId', 'points', 'wins']]\n",
    "# constructor_standings = constructor_standings[['raceId', 'constructorId', 'points', 'wins']]\n"
   ]
  },
  {
   "cell_type": "code",
   "execution_count": 35,
   "metadata": {},
   "outputs": [],
   "source": [
    "results = results.merge(races, on=\"raceId\", how=\"inner\")\n",
    "# Merge driver_standings on both raceId and driverId:\n",
    "results = results.merge(\n",
    "    driver_standings,\n",
    "    on=[\"raceId\", \"driverId\"],\n",
    "    how=\"inner\",\n",
    "    suffixes=('', '_driver')\n",
    ")\n",
    "# Merge constructor_standings on both raceId and constructorId:\n",
    "results = results.merge(\n",
    "    constructor_standings,\n",
    "    on=[\"raceId\", \"constructorId\"],\n",
    "    how=\"inner\",\n",
    "    suffixes=('', '_constructor')\n",
    ")\n",
    "\n",
    "# Create dataframes with previous race information\n",
    "# Sort by year and round to ensure proper ordering\n",
    "driver_previous = driver_standings.merge(races[['raceId', 'year', 'round']], on='raceId')\n",
    "driver_previous = driver_previous.sort_values(['year', 'round', 'driverId'])\n",
    "# Create a new column that will be used for joining - using the next race\n",
    "driver_previous['next_round'] = driver_previous['round'] + 1\n",
    "driver_previous.rename(columns={\n",
    "    'points': 'prev_points_driver',\n",
    "    'wins': 'prev_wins_driver'\n",
    "}, inplace=True)\n",
    "\n",
    "constructor_previous = constructor_standings.merge(races[['raceId', 'year', 'round']], on='raceId')\n",
    "constructor_previous = constructor_previous.sort_values(['year', 'round', 'constructorId'])\n",
    "constructor_previous['next_round'] = constructor_previous['round'] + 1\n",
    "constructor_previous.rename(columns={\n",
    "    'points': 'prev_points_constructor',\n",
    "    'wins': 'prev_wins_constructor'\n",
    "}, inplace=True)\n",
    "\n",
    "# Now join these previous points to the main results dataframe\n",
    "# Join on year, next_round, and driverId/constructorId\n",
    "results = results.merge(\n",
    "    driver_previous[['year', 'next_round', 'driverId', 'prev_points_driver', 'prev_wins_driver']],\n",
    "    left_on=['year', 'round', 'driverId'],\n",
    "    right_on=['year', 'next_round', 'driverId'],\n",
    "    how='left'\n",
    ")\n",
    "\n",
    "results = results.merge(\n",
    "    constructor_previous[['year', 'next_round', 'constructorId', 'prev_points_constructor', 'prev_wins_constructor']],\n",
    "    left_on=['year', 'round', 'constructorId'],\n",
    "    right_on=['year', 'next_round', 'constructorId'],\n",
    "    how='left'\n",
    ")\n",
    "\n",
    "# Fill NaN values with 0 (for first races of the season)\n",
    "results['prev_points_driver'] = results['prev_points_driver'].fillna(0)\n",
    "results['prev_points_constructor'] = results['prev_points_constructor'].fillna(0)\n",
    "results['prev_wins_driver'] = results['prev_wins_driver'].fillna(0)\n",
    "results['prev_wins_constructor'] = results['prev_wins_constructor'].fillna(0)"
   ]
  },
  {
   "cell_type": "code",
   "execution_count": 36,
   "metadata": {},
   "outputs": [],
   "source": [
    "results = results[['raceId', 'year', 'driverId', 'constructorId', 'round', 'grid', 'position', 'circuitId', \n",
    "                  'prev_points_driver', 'prev_points_constructor', 'prev_wins_driver', 'prev_wins_constructor']]\n",
    "\n",
    "# Rename columns to maintain compatibility with existing code\n",
    "results = results.rename(columns={\n",
    "    'prev_points_driver': 'driver_points',\n",
    "    'prev_points_constructor': 'constructor_points',\n",
    "    'prev_wins_driver': 'driver_wins',\n",
    "    'prev_wins_constructor': 'constructor_wins'\n",
    "})\n",
    "\n",
    "results.to_csv(\"cleaned/results2.csv\", index=False)\n",
    "\n",
    "# results = results[['raceId', 'year', 'driverId', 'constructorId', 'round', 'grid', 'position', 'circuitId', 'points_driver', 'points_constructor', 'wins', 'wins_constructor']]\n",
    "\n",
    "# results.to_csv(\"cleaned/results.csv\", index=False)\n"
   ]
  },
  {
   "cell_type": "code",
   "execution_count": null,
   "metadata": {},
   "outputs": [],
   "source": []
  }
 ],
 "metadata": {
  "kernelspec": {
   "display_name": ".venv",
   "language": "python",
   "name": "python3"
  },
  "language_info": {
   "codemirror_mode": {
    "name": "ipython",
    "version": 3
   },
   "file_extension": ".py",
   "mimetype": "text/x-python",
   "name": "python",
   "nbconvert_exporter": "python",
   "pygments_lexer": "ipython3",
   "version": "3.12.7"
  }
 },
 "nbformat": 4,
 "nbformat_minor": 2
}
